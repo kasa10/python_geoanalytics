{
 "cells": [
  {
   "cell_type": "code",
   "execution_count": 4,
   "metadata": {
    "collapsed": true,
    "ExecuteTime": {
     "start_time": "2023-11-03T12:53:44.028998Z",
     "end_time": "2023-11-03T12:53:44.088510Z"
    }
   },
   "outputs": [],
   "source": [
    "from selenium import webdriver\n",
    "from selenium.webdriver.common.by import By\n",
    "from selenium.webdriver.common.keys import Keys\n",
    "from selenium.webdriver.chrome.service import Service\n",
    "import pandas as pd\n",
    "import time\n",
    "from bs4 import BeautifulSoup\n",
    "from selenium.webdriver.support.ui import WebDriverWait\n",
    "from selenium.webdriver.support import expected_conditions as EC\n",
    "import requests\n",
    "import re"
   ]
  },
  {
   "cell_type": "code",
   "execution_count": 5,
   "outputs": [
    {
     "name": "stdout",
     "output_type": "stream",
     "text": [
      "Response:  200\n",
      "ok?  True\n",
      "URL:  https://geochecki-vpd.nalog.gov.ru/geochecks\n"
     ]
    }
   ],
   "source": [
    "resp=requests.get(\"https://geochecki-vpd.nalog.gov.ru/geochecks\")\n",
    "print(\"Response: \", resp.status_code)\n",
    "print(\"ok? \", resp.ok)\n",
    "print(\"URL: \", resp.url)"
   ],
   "metadata": {
    "collapsed": false,
    "ExecuteTime": {
     "start_time": "2023-11-03T12:53:45.541727Z",
     "end_time": "2023-11-03T12:53:45.638919Z"
    }
   }
  },
  {
   "cell_type": "code",
   "execution_count": 6,
   "outputs": [
    {
     "ename": "WebDriverException",
     "evalue": "Message: Can not connect to the Service C:\\Program Files\\Google\\Chrome\\Application\\chrome.exe\n",
     "output_type": "error",
     "traceback": [
      "\u001B[1;31m---------------------------------------------------------------------------\u001B[0m",
      "\u001B[1;31mWebDriverException\u001B[0m                        Traceback (most recent call last)",
      "Cell \u001B[1;32mIn[6], line 2\u001B[0m\n\u001B[0;32m      1\u001B[0m service \u001B[38;5;241m=\u001B[39m Service(\u001B[38;5;124m\"\u001B[39m\u001B[38;5;124mC:\u001B[39m\u001B[38;5;124m\\\u001B[39m\u001B[38;5;124mProgram Files\u001B[39m\u001B[38;5;124m\\\u001B[39m\u001B[38;5;124mGoogle\u001B[39m\u001B[38;5;124m\\\u001B[39m\u001B[38;5;124mChrome\u001B[39m\u001B[38;5;124m\\\u001B[39m\u001B[38;5;124mApplication\u001B[39m\u001B[38;5;124m\\\u001B[39m\u001B[38;5;124mchrome.exe\u001B[39m\u001B[38;5;124m\"\u001B[39m)\n\u001B[1;32m----> 2\u001B[0m driver \u001B[38;5;241m=\u001B[39m \u001B[43mwebdriver\u001B[49m\u001B[38;5;241;43m.\u001B[39;49m\u001B[43mChrome\u001B[49m\u001B[43m(\u001B[49m\u001B[43mservice\u001B[49m\u001B[38;5;241;43m=\u001B[39;49m\u001B[43mservice\u001B[49m\u001B[43m)\u001B[49m\n\u001B[0;32m      4\u001B[0m \u001B[38;5;66;03m# Откройте веб-страницу\u001B[39;00m\n\u001B[0;32m      5\u001B[0m driver\u001B[38;5;241m.\u001B[39mget(\u001B[38;5;124m'\u001B[39m\u001B[38;5;124mhttps://geochecki-vpd.nalog.gov.ru/geochecks\u001B[39m\u001B[38;5;124m'\u001B[39m)\n",
      "File \u001B[1;32m~\\AppData\\Local\\Programs\\Python\\Python310\\lib\\site-packages\\selenium\\webdriver\\chrome\\webdriver.py:45\u001B[0m, in \u001B[0;36mWebDriver.__init__\u001B[1;34m(self, options, service, keep_alive)\u001B[0m\n\u001B[0;32m     42\u001B[0m service \u001B[38;5;241m=\u001B[39m service \u001B[38;5;28;01mif\u001B[39;00m service \u001B[38;5;28;01melse\u001B[39;00m Service()\n\u001B[0;32m     43\u001B[0m options \u001B[38;5;241m=\u001B[39m options \u001B[38;5;28;01mif\u001B[39;00m options \u001B[38;5;28;01melse\u001B[39;00m Options()\n\u001B[1;32m---> 45\u001B[0m \u001B[38;5;28;43msuper\u001B[39;49m\u001B[43m(\u001B[49m\u001B[43m)\u001B[49m\u001B[38;5;241;43m.\u001B[39;49m\u001B[38;5;21;43m__init__\u001B[39;49m\u001B[43m(\u001B[49m\n\u001B[0;32m     46\u001B[0m \u001B[43m    \u001B[49m\u001B[43mDesiredCapabilities\u001B[49m\u001B[38;5;241;43m.\u001B[39;49m\u001B[43mCHROME\u001B[49m\u001B[43m[\u001B[49m\u001B[38;5;124;43m\"\u001B[39;49m\u001B[38;5;124;43mbrowserName\u001B[39;49m\u001B[38;5;124;43m\"\u001B[39;49m\u001B[43m]\u001B[49m\u001B[43m,\u001B[49m\n\u001B[0;32m     47\u001B[0m \u001B[43m    \u001B[49m\u001B[38;5;124;43m\"\u001B[39;49m\u001B[38;5;124;43mgoog\u001B[39;49m\u001B[38;5;124;43m\"\u001B[39;49m\u001B[43m,\u001B[49m\n\u001B[0;32m     48\u001B[0m \u001B[43m    \u001B[49m\u001B[43moptions\u001B[49m\u001B[43m,\u001B[49m\n\u001B[0;32m     49\u001B[0m \u001B[43m    \u001B[49m\u001B[43mservice\u001B[49m\u001B[43m,\u001B[49m\n\u001B[0;32m     50\u001B[0m \u001B[43m    \u001B[49m\u001B[43mkeep_alive\u001B[49m\u001B[43m,\u001B[49m\n\u001B[0;32m     51\u001B[0m \u001B[43m\u001B[49m\u001B[43m)\u001B[49m\n",
      "File \u001B[1;32m~\\AppData\\Local\\Programs\\Python\\Python310\\lib\\site-packages\\selenium\\webdriver\\chromium\\webdriver.py:53\u001B[0m, in \u001B[0;36mChromiumDriver.__init__\u001B[1;34m(self, browser_name, vendor_prefix, options, service, keep_alive)\u001B[0m\n\u001B[0;32m     49\u001B[0m \u001B[38;5;28mself\u001B[39m\u001B[38;5;241m.\u001B[39mservice \u001B[38;5;241m=\u001B[39m service\n\u001B[0;32m     51\u001B[0m \u001B[38;5;28mself\u001B[39m\u001B[38;5;241m.\u001B[39mservice\u001B[38;5;241m.\u001B[39mpath \u001B[38;5;241m=\u001B[39m DriverFinder\u001B[38;5;241m.\u001B[39mget_path(\u001B[38;5;28mself\u001B[39m\u001B[38;5;241m.\u001B[39mservice, options)\n\u001B[1;32m---> 53\u001B[0m \u001B[38;5;28;43mself\u001B[39;49m\u001B[38;5;241;43m.\u001B[39;49m\u001B[43mservice\u001B[49m\u001B[38;5;241;43m.\u001B[39;49m\u001B[43mstart\u001B[49m\u001B[43m(\u001B[49m\u001B[43m)\u001B[49m\n\u001B[0;32m     55\u001B[0m \u001B[38;5;28;01mtry\u001B[39;00m:\n\u001B[0;32m     56\u001B[0m     \u001B[38;5;28msuper\u001B[39m()\u001B[38;5;241m.\u001B[39m\u001B[38;5;21m__init__\u001B[39m(\n\u001B[0;32m     57\u001B[0m         command_executor\u001B[38;5;241m=\u001B[39mChromiumRemoteConnection(\n\u001B[0;32m     58\u001B[0m             remote_server_addr\u001B[38;5;241m=\u001B[39m\u001B[38;5;28mself\u001B[39m\u001B[38;5;241m.\u001B[39mservice\u001B[38;5;241m.\u001B[39mservice_url,\n\u001B[1;32m   (...)\u001B[0m\n\u001B[0;32m     64\u001B[0m         options\u001B[38;5;241m=\u001B[39moptions,\n\u001B[0;32m     65\u001B[0m     )\n",
      "File \u001B[1;32m~\\AppData\\Local\\Programs\\Python\\Python310\\lib\\site-packages\\selenium\\webdriver\\common\\service.py:109\u001B[0m, in \u001B[0;36mService.start\u001B[1;34m(self)\u001B[0m\n\u001B[0;32m    107\u001B[0m sleep(\u001B[38;5;241m0.5\u001B[39m)\n\u001B[0;32m    108\u001B[0m \u001B[38;5;28;01mif\u001B[39;00m count \u001B[38;5;241m==\u001B[39m \u001B[38;5;241m60\u001B[39m:\n\u001B[1;32m--> 109\u001B[0m     \u001B[38;5;28;01mraise\u001B[39;00m WebDriverException(\u001B[38;5;124mf\u001B[39m\u001B[38;5;124m\"\u001B[39m\u001B[38;5;124mCan not connect to the Service \u001B[39m\u001B[38;5;132;01m{\u001B[39;00m\u001B[38;5;28mself\u001B[39m\u001B[38;5;241m.\u001B[39m_path\u001B[38;5;132;01m}\u001B[39;00m\u001B[38;5;124m\"\u001B[39m)\n",
      "\u001B[1;31mWebDriverException\u001B[0m: Message: Can not connect to the Service C:\\Program Files\\Google\\Chrome\\Application\\chrome.exe\n"
     ]
    }
   ],
   "source": [
    "service = Service(\"C:\\Program Files\\Google\\Chrome\\Application\\chrome.exe\")\n",
    "driver = webdriver.Chrome(service=service)\n",
    "\n",
    "# Откройте веб-страницу\n",
    "driver.get('https://geochecki-vpd.nalog.gov.ru/geochecks')\n",
    "\n",
    "# Найдите элемент по его атрибуту data-qa\n",
    "popup_element = driver.find_element(By.CSS_SELECTOR, 'div[data-qa=\"popup-wrapper\"]')\n",
    "\n",
    "# Вы можете выполнить клик на этом элементе\n",
    "popup_element.click()\n"
   ],
   "metadata": {
    "collapsed": false
   }
  },
  {
   "cell_type": "code",
   "execution_count": null,
   "outputs": [],
   "source": [
    "# После клика, вы можете продолжить взаимодействие с данными, которые появились после клика\n",
    "\n",
    "# Например, можно извлечь текст из элемента\n",
    "popup_title_element = driver.find_element(By.CSS_SELECTOR, 'div[data-qa=\"popup-title\"]')\n",
    "popup_title = popup_title_element.text\n",
    "print(\"Заголовок всплывающего окна:\", popup_title)\n",
    "\n",
    "# Закройте браузер\n",
    "driver.quit()"
   ],
   "metadata": {
    "collapsed": false
   }
  },
  {
   "cell_type": "code",
   "execution_count": null,
   "outputs": [],
   "source": [],
   "metadata": {
    "collapsed": false
   }
  },
  {
   "cell_type": "markdown",
   "source": [],
   "metadata": {
    "collapsed": false
   }
  },
  {
   "cell_type": "code",
   "execution_count": null,
   "outputs": [],
   "source": [
    "curl \"https://mc.yandex.ru/clmap/87312204?page-url=https^%^3A^%^2F^%^2Fgeochecki-vpd.nalog.gov.ru^%^2Fgeochecks&pointer-click=rn^%^3A765095064^%^3Ax^%^3A59513^%^3Ay^%^3A40169^%^3At^%^3A1324^%^3Ap^%^3AlAA1AA11A2AA^%^3AX^%^3A761^%^3AY^%^3A544&browser-info=u^%^3A169757093779416696^%^3Av^%^3A1150^%^3Avf^%^3A1nabcoadxdzdlj5fh4rtxl27^%^3Arqnl^%^3A1^%^3Ast^%^3A1699005940&t=gdpr(14)ti(1)\" ^\n",
    "  -H \"authority: mc.yandex.ru\" ^\n",
    "  -H \"accept: */*\" ^\n",
    "  -H \"accept-language: ru,en;q=0.9,lv;q=0.8\" ^\n",
    "  -H \"cookie: yandexuid=8340314331696831590; yashr=3431437331696831591; yuidss=8340314331696831590; ymex=2012191592.yrts.1696831592; gdpr=0; _ym_uid=1696831591882381756; i=r6e10ZZaFxeyGZsCgPmrf3MGtT6a99WGdwfhBtJVMJv2Wq68DZRqOnuSrjme7CSXe97JCQhh1VkE84krCcxmntH/3kc=; isa=NghEjdxhC8Bw/uyfn4p0CMLzDq0RqbznP7VGD1BsjUIygkU1ldNmRTkICV5i3+Bq3uOgTIAmw12iViiB3glJ5dUfaGg=; sae=0:707DAFD4-41BB-4260-9DFD-EF6E5D26B679:p:23.9.3.931:w:d:RU:20231009; yabs-sid=395594791698416525; Session_id=3:1698758339.5.1.1696831938634:QByvXQ:41.1.2:1^|225480227.0.2.3:1696831938^|1130000064615833.429.2.2:429.3:1696832367^|3:10277999.238654.ZzPYg0M6P_pg0ej_dA2nIn3YYHo; sessar=1.1183.CiCRdhYSW-JEA6Z5mR6khsaCegbV3qYl9z4K__JWiBIUUA.9jeJ50p4E9ClIi250KXl8YCNsSD5adfAy52CYiZeFvA; sessionid2=3:1698758339.5.1.1696831938634:QByvXQ:41.1.2:1^|225480227.0.2.3:1696831938^|1130000064615833.429.2.2:429.3:1696832367^|3:10277999.238654.fakesign0000000000000000000; yandex_login=kasmynin.ka^@phystech.edu; yandex_gid=213; _ym_isad=2; is_gdpr=0; is_gdpr_b=CIauJRDc1wEoAg==; ys=udn.cDprYXNteW5pbi5rYUBwaHlzdGVjaC5lZHU^%^3D^#wprid.1699005297838647-18048131585497493387-balancer-l7leveler-kubr-yp-vla-33-BAL-6029^#c_chck.3350322235; _ym_d=1699005299; bh=EjwiQ2hyb21pdW0iO3Y9IjExNiIsICJOb3QpQTtCcmFuZCI7dj0iMjQiLCAiWWFCcm93c2VyIjt2PSIyMyIaBSJ4ODYiIgwiMjMuOS4zLjkzMSIqAj8wOgkiV2luZG93cyJCCCIxNS4wLjAiSgQiNjQiUlQiQ2hyb21pdW0iO3Y9IjExNi4wLjU4NDUuMjI4IiwiTm90KUE7QnJhbmQiO3Y9IjI0LjAuMC4wIiwiWWFCcm93c2VyIjt2PSIyMy45LjMuOTMxIiI=; yp=1699013462.uc.ru^#1699013462.duc.ru^#1728368366.cld.2270452^#1728368366.brd.0702004923^#2014118339.udn.cDprYXNteW5pbi5rYUBwaHlzdGVjaC5lZHU^%^3D^#2012192367.multib.1^#2014365299.pcs.0^#1701596479.hdrc.1^#1701525186.ygu.1^#1699013090.gpauto.55_923904:37_515617:140:1:1699005890^#1699275355.szm.1_75:1441x961:1393x837\" ^\n",
    "  -H \"origin: https://geochecki-vpd.nalog.gov.ru\" ^\n",
    "  -H \"referer: https://geochecki-vpd.nalog.gov.ru/\" ^\n",
    "  -H \"sec-ch-ua: ^\\^\"Chromium^\\^\";v=^\\^\"116^\\^\", ^\\^\"Not)A;Brand^\\^\";v=^\\^\"24^\\^\", ^\\^\"YaBrowser^\\^\";v=^\\^\"23^\\^\"\" ^\n",
    "  -H \"sec-ch-ua-mobile: ?0\" ^\n",
    "  -H \"sec-ch-ua-platform: ^\\^\"Windows^\\^\"\" ^\n",
    "  -H \"sec-fetch-dest: empty\" ^\n",
    "  -H \"sec-fetch-mode: cors\" ^\n",
    "  -H \"sec-fetch-site: cross-site\" ^\n",
    "  -H \"user-agent: Mozilla/5.0 (Windows NT 10.0; Win64; x64) AppleWebKit/537.36 (KHTML, like Gecko) Chrome/116.0.5845.931 YaBrowser/23.9.3.931 Yowser/2.5 Safari/537.36\" ^\n",
    "  -H \"y-browser-experiments: NjczMTM3LDAsNzE=\" ^\n",
    "  --compressed"
   ],
   "metadata": {
    "collapsed": false
   }
  }
 ],
 "metadata": {
  "kernelspec": {
   "display_name": "Python 3",
   "language": "python",
   "name": "python3"
  },
  "language_info": {
   "codemirror_mode": {
    "name": "ipython",
    "version": 2
   },
   "file_extension": ".py",
   "mimetype": "text/x-python",
   "name": "python",
   "nbconvert_exporter": "python",
   "pygments_lexer": "ipython2",
   "version": "2.7.6"
  }
 },
 "nbformat": 4,
 "nbformat_minor": 0
}
