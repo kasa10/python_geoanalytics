{
 "cells": [
  {
   "cell_type": "code",
   "execution_count": null,
   "metadata": {
    "collapsed": true
   },
   "outputs": [],
   "source": [
    "import numpy as np\n",
    "import pandas as pd\n",
    "import matplotlib.pyplot as plt\n",
    "import seaborn as sns"
   ]
  },
  {
   "cell_type": "code",
   "execution_count": null,
   "outputs": [],
   "source": [
    "df = pd.read_parquet(\"train_dataset_hackaton2023_train.gzip\")"
   ],
   "metadata": {
    "collapsed": false
   }
  },
  {
   "cell_type": "code",
   "execution_count": null,
   "outputs": [],
   "source": [
    "df.head()"
   ],
   "metadata": {
    "collapsed": false
   }
  },
  {
   "cell_type": "code",
   "execution_count": null,
   "outputs": [],
   "source": [
    "df.describe()"
   ],
   "metadata": {
    "collapsed": false
   }
  },
  {
   "cell_type": "code",
   "execution_count": null,
   "outputs": [],
   "source": [
    "# Получаем информацию о данных\n",
    "print(df.info())"
   ],
   "metadata": {
    "collapsed": false
   }
  },
  {
   "cell_type": "code",
   "execution_count": null,
   "outputs": [],
   "source": [
    "# Добавим новые признаки\n",
    "df['month'] = df['startdatetime'].dt.month\n",
    "df['hour'] = df['startdatetime'].dt.hour\n",
    "df['day_of_week'] = df['startdatetime'].dt.dayofweek"
   ],
   "metadata": {
    "collapsed": false
   }
  },
  {
   "cell_type": "code",
   "execution_count": null,
   "outputs": [],
   "source": [
    "# Проверить наличие пропусков\n",
    "missing_values = df.isnull().sum()\n",
    "print(\"\\nПропуски:\")\n",
    "print(missing_values)"
   ],
   "metadata": {
    "collapsed": false
   }
  },
  {
   "cell_type": "markdown",
   "source": [
    "# БАЛАНС КЛАССОВ"
   ],
   "metadata": {
    "collapsed": false
   }
  },
  {
   "cell_type": "code",
   "execution_count": null,
   "outputs": [],
   "source": [
    "#подсчет количества экземпляров каждого класса в целевой переменной\n",
    "buy_counts = df['buy_post'].value_counts()\n",
    "print(buy_counts[0]/buy_counts[1])\n",
    "print(buy_counts)\n"
   ],
   "metadata": {
    "collapsed": false
   }
  },
  {
   "cell_type": "markdown",
   "source": [
    "# распределение"
   ],
   "metadata": {
    "collapsed": false
   }
  },
  {
   "cell_type": "code",
   "execution_count": null,
   "outputs": [],
   "source": [
    "import seaborn as sns\n",
    "import matplotlib.pyplot as plt\n",
    "\n",
    "# Распределение целевого признака date_diff_post\n",
    "plt.figure(figsize=(12, 6))\n",
    "sns.histplot(df['date_diff_post'], bins=20, kde=True, color='blue')\n",
    "plt.title('Distribution of date_diff_post')\n",
    "plt.xlabel('date_diff_post')\n",
    "plt.ylabel('Frequency')\n",
    "plt.show()\n",
    "\n",
    "# Ящик с усами для целевого признака date_diff_post\n",
    "plt.figure(figsize=(8, 6))\n",
    "sns.boxplot(x=df['date_diff_post'])\n",
    "plt.title('Box plot of date_diff_post')\n",
    "plt.show()\n",
    "\n",
    "# Распределение целевого признака buy_post\n",
    "plt.figure(figsize=(12, 6))\n",
    "sns.histplot(df['buy_post'], bins=20, kde=True, color='green')\n",
    "plt.title('Distribution of buy_post')\n",
    "plt.xlabel('buy_post')\n",
    "plt.ylabel('Frequency')\n",
    "plt.show()\n",
    "\n",
    "# Ящик с усами для целевого признака buy_post\n",
    "plt.figure(figsize=(8, 6))\n",
    "sns.boxplot(x=df['buy_post'])\n",
    "plt.title('Box plot of buy_post')\n",
    "plt.show()\n"
   ],
   "metadata": {
    "collapsed": false
   }
  },
  {
   "cell_type": "markdown",
   "source": [
    "Распределение целевых признаков предоставляет информацию о структуре данных и их характеристиках.\n",
    "\n",
    " медиана в ящике с усами покажет, где находится центр распределения.\n",
    "\n",
    "Разброс данных:\n",
    "Размах и длина ящика могут указать на разброс данных. Это может быть полезно для оценки диапазона значений и наличия выбросов.\n",
    "\n",
    "Выбросы:\n",
    "Точки за пределами ящика считаются выбросами. Их обнаружение может быть важным при решении о том, следует ли исключить или обработать эти значения.\n",
    "\n",
    "Форма распределения\n",
    "\n",
    "Частота значений:\n",
    "Гистограмма позволяет оценить, как часто встречаются различные значения.\n",
    "\n",
    "На основе этих аспектов можно принимать решения относительно предобработки данных, выявления выбросов, выбора подходящих методов анализа и построения моделей машинного обучения."
   ],
   "metadata": {
    "collapsed": false
   }
  },
  {
   "cell_type": "markdown",
   "source": [
    "#### Данные не сбалансированы!!\n",
    "SMOTE? oversample? Веса?"
   ],
   "metadata": {
    "collapsed": false
   }
  },
  {
   "cell_type": "markdown",
   "source": [
    "# Блюда в цифры"
   ],
   "metadata": {
    "collapsed": false
   }
  },
  {
   "cell_type": "code",
   "execution_count": null,
   "outputs": [],
   "source": [
    "from sklearn.preprocessing import LabelEncoder\n",
    "\n",
    "label_encoder = LabelEncoder()\n",
    "\n",
    "# dish_name в числовой формат\n",
    "df['dish_name'] = label_encoder.fit_transform(df['dish_name'])\n",
    "\n",
    "print(df.info())\n",
    "\n",
    "# соответствия чисел и блюд\n",
    "encoded_dishes = pd.DataFrame({\n",
    "    'dish_name_encoded': df['dish_name'].unique(),\n",
    "    'dish_name': label_encoder.inverse_transform(df['dish_name'].unique())\n",
    "})\n",
    "\n",
    "print(encoded_dishes)\n"
   ],
   "metadata": {
    "collapsed": false
   }
  },
  {
   "cell_type": "code",
   "execution_count": null,
   "outputs": [],
   "source": [
    "df.head()"
   ],
   "metadata": {
    "collapsed": false
   }
  },
  {
   "cell_type": "code",
   "execution_count": null,
   "outputs": [],
   "source": [
    "from sklearn.preprocessing import LabelEncoder\n",
    "\n",
    "label_encoder = LabelEncoder()\n",
    "\n",
    "df['group_name'] = label_encoder.fit_transform(df['group_name'])\n",
    "df['format_name'] = label_encoder.fit_transform(df['format_name'])\n",
    "\n",
    "\n",
    "print(df['group_name'].unique())\n",
    "\n",
    "print(df['format_name'].unique())\n",
    "for original, encoded in zip(label_encoder.classes_, label_encoder.transform(label_encoder.classes_)):\n",
    "    print(f\"{encoded}: {original}\")\n",
    "\n",
    "print(df.info())\n"
   ],
   "metadata": {
    "collapsed": false
   }
  },
  {
   "cell_type": "code",
   "execution_count": null,
   "outputs": [],
   "source": [
    "df = df.drop(columns=['group_name'])"
   ],
   "metadata": {
    "collapsed": false
   }
  },
  {
   "cell_type": "markdown",
   "source": [
    "# Корреляция"
   ],
   "metadata": {
    "collapsed": false
   }
  },
  {
   "cell_type": "code",
   "execution_count": null,
   "outputs": [],
   "source": [
    "import seaborn as sns\n",
    "import matplotlib.pyplot as plt\n",
    "\n",
    "# корреляци\n",
    "correlation_m = df.corr()\n",
    "\n",
    "plt.figure(figsize=(12, 10))\n",
    "sns.heatmap(correlation_m, annot=True, cmap='coolwarm', fmt=\".2f\")\n",
    "plt.title('Correlation Matrix')\n",
    "plt.show()"
   ],
   "metadata": {
    "collapsed": false
   }
  },
  {
   "cell_type": "code",
   "execution_count": null,
   "outputs": [],
   "source": [
    "correlation_m"
   ],
   "metadata": {
    "collapsed": false
   }
  },
  {
   "cell_type": "markdown",
   "source": [
    "## ПРОПУСКИ"
   ],
   "metadata": {
    "collapsed": false
   }
  },
  {
   "cell_type": "code",
   "execution_count": null,
   "outputs": [],
   "source": [
    "median_value = df['date_diff_post'].median()\n",
    "df['date_diff_post'].fillna(median_value, inplace=True)"
   ],
   "metadata": {
    "collapsed": false
   }
  },
  {
   "cell_type": "code",
   "execution_count": null,
   "outputs": [],
   "source": [
    "# Проверить наличие пропусков\n",
    "missing_values = df.isnull().sum()\n",
    "print(\"\\nПропуски:\")\n",
    "print(missing_values)"
   ],
   "metadata": {
    "collapsed": false
   }
  },
  {
   "cell_type": "markdown",
   "source": [
    "# BASELINE 1"
   ],
   "metadata": {
    "collapsed": false
   }
  },
  {
   "cell_type": "code",
   "execution_count": null,
   "outputs": [],
   "source": [
    "from sklearn.svm import SVC\n",
    "from sklearn.linear_model import LogisticRegression\n",
    "from sklearn.model_selection import GridSearchCV\n",
    "from sklearn.metrics import accuracy_score, f1_score, roc_auc_score"
   ],
   "metadata": {
    "collapsed": false
   }
  },
  {
   "cell_type": "code",
   "execution_count": null,
   "outputs": [],
   "source": [
    "%%time\n",
    "from sklearn.tree import DecisionTreeClassifier\n",
    "from sklearn.metrics import accuracy_score, classification_report, confusion_matrix\n",
    "from sklearn.model_selection import train_test_split\n",
    "from imblearn.over_sampling import SMOTE\n",
    "import pandas as pd\n",
    "\n",
    "X = df.drop(['buy_post', 'startdatetime', 'date_diff_post'], axis=1)\n",
    "y = df['buy_post']\n",
    "\n",
    "X_train, X_test, y_train, y_test = train_test_split(X, y, test_size=0.2, random_state=42)\n",
    "\n",
    "\n",
    "model = DecisionTreeClassifier(random_state=42)\n",
    "\n",
    "# Обучим\n",
    "model.fit(X_train, y_train)\n",
    "\n",
    "# predict\n",
    "y_pred = model.predict(X_test)\n",
    "\n"
   ],
   "metadata": {
    "collapsed": false
   }
  },
  {
   "cell_type": "code",
   "execution_count": null,
   "outputs": [],
   "source": [
    "df.info()"
   ],
   "metadata": {
    "collapsed": false
   }
  },
  {
   "cell_type": "markdown",
   "source": [
    "Без баланса, и без optuna, метрики:\n"
   ],
   "metadata": {
    "collapsed": false
   }
  },
  {
   "cell_type": "code",
   "execution_count": null,
   "outputs": [],
   "source": [],
   "metadata": {
    "collapsed": false
   }
  },
  {
   "cell_type": "code",
   "execution_count": null,
   "outputs": [],
   "source": [
    "# Оценим качество\n",
    "accuracy = accuracy_score(y_test, y_pred)\n",
    "print(f\"Accuracy: {accuracy:.2f}\")\n",
    "\n",
    "# Вычисление F1-меры\n",
    "f1 = f1_score(y_test, y_pred)\n",
    "print(f\"F1 Score: {f1:.2f}\")\n",
    "\n",
    "# Вычисление ROC-AUC\n",
    "roc_auc = roc_auc_score(y_test, y_pred)\n",
    "print(f\"ROC-AUC Score: {roc_auc:.2f}\")"
   ],
   "metadata": {
    "collapsed": false
   }
  },
  {
   "cell_type": "markdown",
   "source": [
    "### Группируем"
   ],
   "metadata": {
    "collapsed": false
   }
  },
  {
   "cell_type": "code",
   "execution_count": null,
   "outputs": [],
   "source": [
    "import pandas as pd\n",
    "\n",
    "# Создайте DataFrame с прогнозами и вероятностями\n",
    "predictions_df = pd.DataFrame({\n",
    "    'customer_id': X_test['customer_id'],  # Предполагая, что у вас есть столбец 'customer_id'\n",
    "    'buy_post': y_pred,\n",
    "})\n",
    "\n",
    "grouped_predictions = predictions_df.groupby('customer_id')['buy_post'].value_counts().unstack(fill_value=0).reset_index()\n",
    "\n",
    "grouped_predictions['prob_score'] = grouped_predictions[1] / (grouped_predictions[0] + grouped_predictions[1])\n",
    "\n",
    "grouped_predictions['buy_post'] = grouped_predictions[1].apply(lambda x: 1 if x > 0 else 0)\n",
    "\n",
    "result_df = grouped_predictions[['customer_id', 'buy_post', 'prob_score']]\n",
    "\n",
    "print(result_df)"
   ],
   "metadata": {
    "collapsed": false
   }
  },
  {
   "cell_type": "code",
   "execution_count": null,
   "outputs": [],
   "source": [
    "import pandas as pd\n",
    "\n",
    "# Создайте DataFrame с реальными значениями\n",
    "true_values_df = pd.DataFrame({\n",
    "    'customer_id': X_test['customer_id'],\n",
    "    'buy_post': y_test,\n",
    "})\n",
    "\n",
    "\n",
    "grouped_true_values = true_values_df.groupby('customer_id')['buy_post'].value_counts().unstack(fill_value=0).reset_index()\n",
    "\n",
    "\n",
    "grouped_true_values['prob_score'] = grouped_true_values[1] / (grouped_true_values[0] + grouped_true_values[1])\n",
    "\n",
    "\n",
    "grouped_true_values['buy_post'] = grouped_true_values[1].apply(lambda x: 1 if x > 0 else 0)\n",
    "\n",
    "\n",
    "real_y = grouped_true_values[['customer_id', 'buy_post', 'prob_score']]\n",
    "\n",
    "# Выведите результаты\n",
    "print(real_y)\n"
   ],
   "metadata": {
    "collapsed": false
   }
  },
  {
   "cell_type": "code",
   "execution_count": null,
   "outputs": [],
   "source": [
    "# Оценим качество\n",
    "accuracy = accuracy_score(real_y['buy_post'], result_df['buy_post'])\n",
    "print(f\"Accuracy: {accuracy:.2f}\")\n",
    "\n",
    "# Вычисление F1-меры\n",
    "f1 = f1_score(real_y['buy_post'], result_df['buy_post'])\n",
    "print(f\"F1 Score: {f1:.2f}\")\n",
    "\n",
    "# Вычисление ROC-AUC\n",
    "roc_auc = roc_auc_score(real_y['buy_post'], result_df['buy_post'])\n",
    "print(f\"ROC-AUC Score: {roc_auc:.2f}\")"
   ],
   "metadata": {
    "collapsed": false
   }
  },
  {
   "cell_type": "markdown",
   "source": [
    "# Логистическая регрессия без подбора гиперпараметров и без баланса"
   ],
   "metadata": {
    "collapsed": false
   }
  },
  {
   "cell_type": "code",
   "execution_count": null,
   "outputs": [],
   "source": [
    "from sklearn.svm import SVC\n",
    "from sklearn.linear_model import LogisticRegression\n",
    "from sklearn.model_selection import GridSearchCV\n",
    "from sklearn.metrics import accuracy_score, f1_score, roc_auc_score"
   ],
   "metadata": {
    "collapsed": false
   }
  },
  {
   "cell_type": "code",
   "execution_count": null,
   "outputs": [],
   "source": [
    "from sklearn.linear_model import LogisticRegression\n",
    "from sklearn.metrics import accuracy_score, classification_report, confusion_matrix\n",
    "from sklearn.model_selection import train_test_split\n",
    "import pandas as pd\n",
    "\n",
    "\n",
    "X = df.drop(['buy_post', 'startdatetime', 'date_diff_post'], axis=1)\n",
    "y = df['buy_post']\n",
    "\n",
    "#\n",
    "X_train, X_test, y_train, y_test = train_test_split(X, y, test_size=0.2, random_state=42)\n",
    "\n",
    "\n",
    "model = LogisticRegression(random_state=42)\n",
    "\n",
    "\n",
    "model.fit(X_train, y_train)\n",
    "\n",
    "\n",
    "y_pred = model.predict(X_test)\n",
    "\n"
   ],
   "metadata": {
    "collapsed": false
   }
  },
  {
   "cell_type": "code",
   "execution_count": null,
   "outputs": [],
   "source": [
    "# Оценим качество\n",
    "accuracy = accuracy_score(y_test, y_pred)\n",
    "print(f\"Accuracy: {accuracy:.2f}\")\n",
    "\n",
    "# Вычисление F1-меры\n",
    "f1 = f1_score(y_test, y_pred)\n",
    "print(f\"F1 Score: {f1:.2f}\")\n",
    "\n",
    "# Вычисление ROC-AUC\n",
    "roc_auc = roc_auc_score(y_test, y_pred)\n",
    "print(f\"ROC-AUC Score: {roc_auc:.2f}\")"
   ],
   "metadata": {
    "collapsed": false
   }
  },
  {
   "cell_type": "code",
   "execution_count": null,
   "outputs": [],
   "source": [
    "y_pred"
   ],
   "metadata": {
    "collapsed": false
   }
  },
  {
   "cell_type": "code",
   "execution_count": null,
   "outputs": [],
   "source": [
    "predictions_df = pd.DataFrame({\n",
    "    'customer_id': X_test['customer_id'],  # Предполагая, что у вас есть столбец 'customer_id'\n",
    "    'buy_post': y_pred,\n",
    "})\n",
    "\n",
    "grouped_predictions = predictions_df.groupby('customer_id')['buy_post'].value_counts().unstack(fill_value=0).reset_index()\n",
    "\n",
    "grouped_predictions['prob_score'] = grouped_predictions[1] / grouped_predictions[1].sum()\n",
    "\n",
    "grouped_predictions['buy_post'] = grouped_predictions[1].apply(lambda x: 1 if x > 0 else 0)\n",
    "\n",
    "\n",
    "result_df = grouped_predictions[['customer_id', 'buy_post', 'prob_score']]\n",
    "\n",
    "\n",
    "print(result_df)"
   ],
   "metadata": {
    "collapsed": false
   }
  },
  {
   "cell_type": "code",
   "execution_count": null,
   "outputs": [],
   "source": [
    "import pandas as pd\n",
    "\n",
    "# Создайте DataFrame с реальными значениями\n",
    "true_values_df = pd.DataFrame({\n",
    "    'customer_id': X_test['customer_id'],\n",
    "    'buy_post': y_test,\n",
    "})\n",
    "\n",
    "\n",
    "grouped_true_values = true_values_df.groupby('customer_id')['buy_post'].value_counts().unstack(fill_value=0).reset_index()\n",
    "\n",
    "\n",
    "grouped_true_values['prob_score'] = grouped_true_values[1] / (grouped_true_values[0] + grouped_true_values[1])\n",
    "\n",
    "\n",
    "grouped_true_values['buy_post'] = grouped_true_values[1].apply(lambda x: 1 if x > 0 else 0)\n",
    "\n",
    "\n",
    "real_y = grouped_true_values[['customer_id', 'buy_post', 'prob_score']]\n",
    "\n",
    "# Выведите результаты\n",
    "print(real_y)\n"
   ],
   "metadata": {
    "collapsed": false
   }
  },
  {
   "cell_type": "code",
   "execution_count": null,
   "outputs": [],
   "source": [
    "# Оценим качество\n",
    "accuracy = accuracy_score(real_y['buy_post'], result_df['buy_post'])\n",
    "print(f\"Accuracy: {accuracy:.2f}\")\n",
    "\n",
    "# Вычисление F1-меры\n",
    "f1 = f1_score(real_y['buy_post'], result_df['buy_post'])\n",
    "print(f\"F1 Score: {f1:.2f}\")\n",
    "\n",
    "# Вычисление ROC-AUC\n",
    "roc_auc = roc_auc_score(real_y['buy_post'], result_df['buy_post'])\n",
    "print(f\"ROC-AUC Score: {roc_auc:.2f}\")"
   ],
   "metadata": {
    "collapsed": false
   }
  },
  {
   "cell_type": "markdown",
   "source": [
    "# Баланс классов\n"
   ],
   "metadata": {
    "collapsed": false
   }
  },
  {
   "cell_type": "code",
   "execution_count": 1,
   "outputs": [],
   "source": [
    "# from imblearn.over_sampling import KMeansSMOTE\n",
    "# from sklearn.model_selection import train_test_split\n",
    "\n",
    "# X = df.drop(['buy_post', 'startdatetime'], axis=1)\n",
    "# y = df['buy_post']\n",
    "\n",
    "# X_train, X_test, y_train, y_test = train_test_split(X, y, test_size=0.2, random_state=42)\n",
    "\n",
    "# kmeans_smote = KMeansSMOTE(cluster_balance_threshold=0.1, random_state=42)\n",
    "# X_train_resampled, y_train_resampled = kmeans_smote.fit_resample(X_train, y_train)\n",
    "\n",
    "from imblearn.over_sampling import SMOTE\n",
    "from sklearn.model_selection import train_test_split\n",
    "\n",
    "X = df.drop(['buy_post', 'startdatetime', 'date_diff_post'], axis=1)\n",
    "y = df['buy_post']\n",
    "\n",
    "X_train, X_test, y_train, y_test = train_test_split(X, y, test_size=0.2, random_state=42)\n",
    "\n",
    "smote = SMOTE(random_state=42)\n",
    "X_resampled, y_resampled = smote.fit_resample(X_train, y_train)"
   ],
   "metadata": {
    "collapsed": false,
    "ExecuteTime": {
     "start_time": "2023-12-10T00:10:43.369057Z",
     "end_time": "2023-12-10T00:10:43.384870Z"
    }
   }
  },
  {
   "cell_type": "markdown",
   "source": [
    "# ЛОГРЕГ с балансом и оптуной"
   ],
   "metadata": {
    "collapsed": false
   }
  },
  {
   "cell_type": "code",
   "execution_count": null,
   "outputs": [],
   "source": [
    "%%time\n",
    "import optuna\n",
    "from sklearn.linear_model import LogisticRegression\n",
    "from sklearn.model_selection import train_test_split\n",
    "from sklearn.metrics import accuracy_score\n",
    "from imblearn.over_sampling import SMOTE\n",
    "import pandas as pd\n",
    "# Разделение данных на обучающий и тестовый наборы\n",
    "X_train, X_test, y_train, y_test = train_test_split(X_resampled, y_resampled, test_size=0.2, random_state=42)\n",
    "\n",
    "def objective(trial):\n",
    "    C = trial.suggest_float(\"C\", 0.001, 1000)\n",
    "    penalty = trial.suggest_categorical(\"penalty\", [\"l2\"])\n",
    "    max_iter = trial.suggest_int(\"max_iter\", 100, 1000)\n",
    "\n",
    "    # Модель логистической регрессии\n",
    "    model = LogisticRegression(\n",
    "        C=C,\n",
    "        penalty=penalty,\n",
    "        max_iter=max_iter,\n",
    "        random_state=42\n",
    "    )\n",
    "\n",
    "    # Обучение\n",
    "    model.fit(X_resampled, y_resampled)\n",
    "\n",
    "    # Предсказание\n",
    "    y_pred = model.predict(X_test)\n",
    "\n",
    "    accuracy = accuracy_score(y_test, y_pred)\n",
    "\n",
    "    return accuracy\n",
    "\n",
    "study = optuna.create_study(direction=\"maximize\")\n",
    "study.optimize(objective, n_trials=10)\n",
    "\n",
    "#лучшие гиперпараметры\n",
    "best_params = study.best_params\n",
    "best_C = best_params[\"C\"]\n",
    "best_penalty = best_params[\"penalty\"]\n",
    "best_max_iter = best_params[\"max_iter\"]\n",
    "\n",
    "#модель с лучшими гиперпараметрами\n",
    "best_model = LogisticRegression(\n",
    "    C=best_C,\n",
    "    penalty=best_penalty,\n",
    "    max_iter=best_max_iter,\n",
    "    random_state=42\n",
    ")\n",
    "\n",
    "best_model.fit(X_resampled, y_resampled)\n",
    "\n",
    "y_pred = best_model.predict(X_test)\n"
   ],
   "metadata": {
    "collapsed": false
   }
  },
  {
   "cell_type": "code",
   "execution_count": null,
   "outputs": [],
   "source": [
    "# Оценим качество\n",
    "accuracy = accuracy_score(y_test, y_pred)\n",
    "print(f\"Accuracy: {accuracy:.2f}\")\n",
    "\n",
    "# Вычисление F1-меры\n",
    "f1 = f1_score(y_test, y_pred)\n",
    "print(f\"F1 Score: {f1:.2f}\")\n",
    "\n",
    "# Вычисление ROC-AUC\n",
    "roc_auc = roc_auc_score(y_test, y_pred)\n",
    "print(f\"ROC-AUC Score: {roc_auc:.2f}\")"
   ],
   "metadata": {
    "collapsed": false
   }
  },
  {
   "cell_type": "markdown",
   "source": [
    "# ДЕРЕВО С БАЛАНСОМ И ОПТУНОЙ"
   ],
   "metadata": {
    "collapsed": false
   }
  },
  {
   "cell_type": "code",
   "execution_count": null,
   "outputs": [],
   "source": [
    "import optuna\n",
    "from sklearn.tree import DecisionTreeClassifier\n",
    "from sklearn.model_selection import train_test_split\n",
    "from sklearn.metrics import accuracy_score\n",
    "from imblearn.over_sampling import SMOTE\n",
    "\n",
    "# Разделение данных на обучающий и тестовый наборы\n",
    "X_train, X_test, y_train, y_test = train_test_split(X_resampled, y_resampled, test_size=0.2, random_state=42)\n",
    "\n",
    "def objective(trial):\n",
    "    # Определите пространство поиска гиперпараметров\n",
    "    max_depth = trial.suggest_int(\"max_depth\", 3, 15)\n",
    "    min_samples_split = trial.suggest_float(\"min_samples_split\", 0.1, 1.0)\n",
    "    min_samples_leaf = trial.suggest_float(\"min_samples_leaf\", 0.1, 0.5)\n",
    "\n",
    "    # Модель решающего дерева\n",
    "    model = DecisionTreeClassifier(\n",
    "        max_depth=max_depth,\n",
    "        min_samples_split=min_samples_split,\n",
    "        min_samples_leaf=min_samples_leaf,\n",
    "        random_state=42\n",
    "    )\n",
    "\n",
    "    # Обучение\n",
    "    model.fit(X_train, y_train)\n",
    "\n",
    "    # Предсказание\n",
    "    y_pred = model.predict(X_test)\n",
    "\n",
    "    accuracy = accuracy_score(y_test, y_pred)\n",
    "\n",
    "    return accuracy\n",
    "\n",
    "# Создание объекта study и запуск оптимизации\n",
    "study = optuna.create_study(direction=\"maximize\")\n",
    "study.optimize(objective, n_trials=10)\n",
    "\n",
    "# Лучшие гиперпараметры\n",
    "best_params = study.best_params\n",
    "best_max_depth = best_params[\"max_depth\"]\n",
    "best_min_samples_split = best_params[\"min_samples_split\"]\n",
    "best_min_samples_leaf = best_params[\"min_samples_leaf\"]\n",
    "\n",
    "# Модель с лучшими гиперпараметрами\n",
    "best_model = DecisionTreeClassifier(\n",
    "    max_depth=best_max_depth,\n",
    "    min_samples_split=best_min_samples_split,\n",
    "    min_samples_leaf=best_min_samples_leaf,\n",
    "    random_state=42\n",
    ")\n",
    "\n",
    "best_model.fit(X_resampled, y_resampled)\n",
    "\n",
    "# Предсказание на тестовых данных\n",
    "y_pred = best_model.predict(X_test)\n"
   ],
   "metadata": {
    "collapsed": false
   }
  },
  {
   "cell_type": "code",
   "execution_count": null,
   "outputs": [],
   "source": [
    "# Оценим качество\n",
    "accuracy = accuracy_score(y_test, y_pred)\n",
    "print(f\"Accuracy: {accuracy:.2f}\")\n",
    "\n",
    "# Вычисление F1-меры\n",
    "f1 = f1_score(y_test, y_pred)\n",
    "print(f\"F1 Score: {f1:.2f}\")\n",
    "\n",
    "# Вычисление ROC-AUC\n",
    "roc_auc = roc_auc_score(y_test, y_pred)\n",
    "print(f\"ROC-AUC Score: {roc_auc:.2f}\")"
   ],
   "metadata": {
    "collapsed": false
   }
  },
  {
   "cell_type": "code",
   "execution_count": null,
   "outputs": [],
   "source": [
    "import pandas as pd\n",
    "\n",
    "# Создайте DataFrame с реальными значениями\n",
    "true_values_df = pd.DataFrame({\n",
    "    'customer_id': X_test['customer_id'],\n",
    "    'buy_post': y_test,\n",
    "})\n",
    "\n",
    "\n",
    "grouped_true_values = true_values_df.groupby('customer_id')['buy_post'].value_counts().unstack(fill_value=0).reset_index()\n",
    "\n",
    "\n",
    "grouped_true_values['prob_score'] = grouped_true_values[1] / (grouped_true_values[0] + grouped_true_values[1])\n",
    "\n",
    "\n",
    "grouped_true_values['buy_post'] = grouped_true_values[1].apply(lambda x: 1 if x > 0 else 0)\n",
    "\n",
    "\n",
    "real_y = grouped_true_values[['customer_id', 'buy_post', 'prob_score']]\n",
    "\n",
    "# Выведите результаты\n",
    "print(real_y)"
   ],
   "metadata": {
    "collapsed": false
   }
  },
  {
   "cell_type": "code",
   "execution_count": null,
   "outputs": [],
   "source": [
    "import pandas as pd\n",
    "\n",
    "# DataFrame с прогнозами и вероятностями\n",
    "predictions_df = pd.DataFrame({\n",
    "    'customer_id': X_test['customer_id'],  # Предполагая, что у вас есть столбец 'customer_id'\n",
    "    'buy_post': y_pred,\n",
    "})\n",
    "\n",
    "# Сгруппир по 'customer_id' и подсчит количество 0 и 1 для каждого пользователя\n",
    "grouped_predictions = predictions_df.groupby('customer_id')['buy_post'].value_counts().unstack(fill_value=0).reset_index()\n",
    "\n",
    "# вероятность как отношение количества 1 к общему количеству\n",
    "grouped_predictions['prob_score'] = grouped_predictions[1] / (grouped_predictions[0] + grouped_predictions[1])\n",
    "\n",
    "# buy_post' принимает только два значения\n",
    "grouped_predictions['buy_post'] = grouped_predictions[1].apply(lambda x: 1 if x > 0 else 0)\n",
    "\n",
    "result_df = grouped_predictions[['customer_id', 'buy_post', 'prob_score']]\n",
    "\n",
    "print(result_df)"
   ],
   "metadata": {
    "collapsed": false
   }
  },
  {
   "cell_type": "code",
   "execution_count": null,
   "outputs": [],
   "source": [
    "# Оценим качество\n",
    "accuracy = accuracy_score(real_y['buy_post'], result_df['buy_post'])\n",
    "print(f\"Accuracy: {accuracy:.2f}\")\n",
    "\n",
    "# Вычисление F1-меры\n",
    "f1 = f1_score(real_y['buy_post'], result_df['buy_post'])\n",
    "print(f\"F1 Score: {f1:.2f}\")\n",
    "\n",
    "# Вычисление ROC-AUC\n",
    "roc_auc = roc_auc_score(real_y['buy_post'], result_df['buy_post'])\n",
    "print(f\"ROC-AUC Score: {roc_auc:.2f}\")"
   ],
   "metadata": {
    "collapsed": false
   }
  },
  {
   "cell_type": "markdown",
   "source": [
    "# CatBoost с подбором и после Smote"
   ],
   "metadata": {
    "collapsed": false
   }
  },
  {
   "cell_type": "code",
   "execution_count": null,
   "outputs": [],
   "source": [
    "import optuna\n",
    "from catboost import CatBoostClassifier\n",
    "from sklearn.model_selection import train_test_split\n",
    "from sklearn.metrics import accuracy_score\n",
    "\n",
    "\n",
    "X_train, X_test, y_train, y_test = train_test_split(X_resampled, y_resampled, test_size=0.2, random_state=42)\n",
    "\n",
    "def objective(trial):\n",
    "    params = {\n",
    "        'iterations': trial.suggest_int('iterations', 50, 500),\n",
    "        'depth': trial.suggest_int('depth', 4, 10),\n",
    "        'learning_rate': trial.suggest_float('learning_rate', 0.01, 0.3),\n",
    "        'l2_leaf_reg': trial.suggest_float('l2_leaf_reg', 0.1, 10.0),\n",
    "        'border_count': trial.suggest_int('border_count', 5, 200),\n",
    "    }\n",
    "\n",
    "    model = CatBoostClassifier(**params, random_state=42, silent=True)\n",
    "\n",
    "    # Обучение\n",
    "    model.fit(X_train, y_train, eval_set=(X_test, y_test), early_stopping_rounds=20, verbose=False)\n",
    "\n",
    "    # Предсказание\n",
    "    y_pred = model.predict(X_test)\n",
    "\n",
    "    accuracy = accuracy_score(y_test, y_pred)\n",
    "\n",
    "    return accuracy\n",
    "\n",
    "# Создание объекта study и запуск оптимизации\n",
    "study = optuna.create_study(direction=\"maximize\")\n",
    "study.optimize(objective, n_trials=10)\n",
    "\n",
    "# Лучшие гиперпараметры\n",
    "best_params = study.best_params\n",
    "best_iterations = best_params[\"iterations\"]\n",
    "best_depth = best_params[\"depth\"]\n",
    "best_learning_rate = best_params[\"learning_rate\"]\n",
    "best_l2_leaf_reg = best_params[\"l2_leaf_reg\"]\n",
    "best_border_count = best_params[\"border_count\"]\n",
    "\n",
    "# Модель с лучшими гиперпараметрами\n",
    "best_model = CatBoostClassifier(\n",
    "    iterations=best_iterations,\n",
    "    depth=best_depth,\n",
    "    learning_rate=best_learning_rate,\n",
    "    l2_leaf_reg=best_l2_leaf_reg,\n",
    "    border_count=best_border_count,\n",
    "    random_state=42,\n",
    "    silent=True\n",
    ")\n",
    "\n",
    "best_model.fit(X_resampled, y_resampled)\n",
    "\n",
    "# Предсказание на тестовых данных\n",
    "y_pred = best_model.predict(X_test)\n"
   ],
   "metadata": {
    "collapsed": false
   }
  },
  {
   "cell_type": "code",
   "execution_count": null,
   "outputs": [],
   "source": [
    "# Оценим качество\n",
    "accuracy = accuracy_score(y_test, y_pred)\n",
    "print(f\"Accuracy: {accuracy:.2f}\")\n",
    "\n",
    "# Вычисление F1-меры\n",
    "f1 = f1_score(y_test, y_pred)\n",
    "print(f\"F1 Score: {f1:.2f}\")\n",
    "\n",
    "# Вычисление ROC-AUC\n",
    "roc_auc = roc_auc_score(y_test, y_pred)\n",
    "print(f\"ROC-AUC Score: {roc_auc:.2f}\")"
   ],
   "metadata": {
    "collapsed": false
   }
  },
  {
   "cell_type": "code",
   "execution_count": null,
   "outputs": [],
   "source": [
    "# Важность признаков\n",
    "feature_importances = best_model.feature_importances_\n",
    "print(feature_importances)\n",
    "print(X.columns)\n",
    "# Визуализация важности признаков\n",
    "plt.figure(figsize=(10, 6))\n",
    "plt.bar(range(len(feature_importances)), feature_importances, align='center')\n",
    "plt.xticks(range(len(feature_importances)), X.columns, rotation=45)\n",
    "plt.xlabel('Feature')\n",
    "plt.ylabel('Importance')\n",
    "plt.title('Catboost')\n",
    "plt.show()"
   ],
   "metadata": {
    "collapsed": false
   }
  },
  {
   "cell_type": "code",
   "execution_count": null,
   "outputs": [],
   "source": [
    "import pandas as pd\n",
    "\n",
    "# Создайте DataFrame с реальными значениями\n",
    "true_values_df = pd.DataFrame({\n",
    "    'customer_id': X_test['customer_id'],\n",
    "    'buy_post': y_test,\n",
    "})\n",
    "\n",
    "\n",
    "grouped_true_values = true_values_df.groupby('customer_id')['buy_post'].value_counts().unstack(fill_value=0).reset_index()\n",
    "\n",
    "\n",
    "grouped_true_values['prob_score'] = grouped_true_values[1] / (grouped_true_values[0] + grouped_true_values[1])\n",
    "\n",
    "\n",
    "grouped_true_values['buy_post'] = grouped_true_values[1].apply(lambda x: 1 if x > 0 else 0)\n",
    "\n",
    "\n",
    "real_y = grouped_true_values[['customer_id', 'buy_post', 'prob_score']]\n",
    "\n",
    "# Выведите результаты\n",
    "print(real_y)"
   ],
   "metadata": {
    "collapsed": false
   }
  },
  {
   "cell_type": "code",
   "execution_count": null,
   "outputs": [],
   "source": [
    "import pandas as pd\n",
    "\n",
    "# DataFrame с прогнозами и вероятностями\n",
    "predictions_df = pd.DataFrame({\n",
    "    'customer_id': X_test['customer_id'],  # Предполагая, что у вас есть столбец 'customer_id'\n",
    "    'buy_post': y_pred,\n",
    "})\n",
    "\n",
    "# Сгрупп по 'customer_id' и подсчит количество 0 и 1 для каждого пользователя\n",
    "grouped_predictions = predictions_df.groupby('customer_id')['buy_post'].value_counts().unstack(fill_value=0).reset_index()\n",
    "\n",
    "# вероятность как отношение количества 1 к общему количеству\n",
    "grouped_predictions['prob_score'] = grouped_predictions[1] / (grouped_predictions[0] + grouped_predictions[1])\n",
    "\n",
    "# 'buy_post' принимает только два значения\n",
    "grouped_predictions['buy_post'] = grouped_predictions[1].apply(lambda x: 1 if x > 0 else 0)\n",
    "\n",
    "# только нужные столбцы\n",
    "result_df = grouped_predictions[['customer_id', 'buy_post', 'prob_score']]\n",
    "\n",
    "# Выведите результаты\n",
    "print(result_df)"
   ],
   "metadata": {
    "collapsed": false
   }
  },
  {
   "cell_type": "code",
   "execution_count": null,
   "outputs": [],
   "source": [
    "# Оценим качество\n",
    "accuracy = accuracy_score(real_y['buy_post'], result_df['buy_post'])\n",
    "print(f\"Accuracy: {accuracy:.2f}\")\n",
    "\n",
    "# Вычисление F1-меры\n",
    "f1 = f1_score(real_y['buy_post'], result_df['buy_post'])\n",
    "print(f\"F1 Score: {f1:.2f}\")\n",
    "\n",
    "# Вычисление ROC-AUC\n",
    "roc_auc = roc_auc_score(real_y['buy_post'], result_df['buy_post'])\n",
    "print(f\"ROC-AUC Score: {roc_auc:.2f}\")"
   ],
   "metadata": {
    "collapsed": false
   }
  },
  {
   "cell_type": "code",
   "execution_count": null,
   "outputs": [],
   "source": [
    "fpr4, tpr4, tresholds4 = roc_curve(real_y['buy_post'], result_df['buy_post'])\n",
    "\n",
    "roc_auc4 = auc(fpr4, tpr4)\n",
    "\n",
    "#plt.plot(fpr, tpr, color='lime', label='ROC curve BS(area = %0.2f)' % roc_auc)\n",
    "# plt.plot(fpr_2, tpr_2, color='red', label='ROC curve GR (area = %0.2f)' % roc_auc_2)\n",
    "#plt.plot(fpr3, tpr3, color='orange', label='ROC curve CB (area = %0.2f)' % roc_auc3)\n",
    "plt.plot(fpr4, tpr4, color='blue', label='ROC curve CB_GR (area = %0.2f)' % roc_auc4)\n",
    "plt.plot([0, 1], [0, 1], color = 'navy', lw=2, linestyle='--')\n",
    "plt.xlim([0.0, 1.0])\n",
    "plt.ylim([0.0, 1.05])\n",
    "\n",
    "plt.xlabel('FPR')\n",
    "plt.ylabel('TPR')\n",
    "plt.title('ROC AUC')\n",
    "plt.legend(loc='lower right')\n",
    "plt.show()"
   ],
   "metadata": {
    "collapsed": false
   }
  },
  {
   "cell_type": "markdown",
   "source": [
    "# HIST GRADIENT"
   ],
   "metadata": {
    "collapsed": false
   }
  },
  {
   "cell_type": "code",
   "execution_count": null,
   "outputs": [],
   "source": [
    "import optuna\n",
    "from sklearn.experimental import enable_hist_gradient_boosting\n",
    "from sklearn.ensemble import HistGradientBoostingClassifier\n",
    "from sklearn.model_selection import train_test_split\n",
    "from sklearn.metrics import accuracy_score\n",
    "\n",
    "# Разделение данных на обучающий и тестовый наборы\n",
    "X_train, X_test, y_train, y_test = train_test_split(X_resampled, y_resampled, test_size=0.2, random_state=42)\n",
    "\n",
    "def objective(trial):\n",
    "    # Определите пространство поиска гиперпараметров\n",
    "    params = {\n",
    "        'max_iter': trial.suggest_int('max_iter', 50, 500),\n",
    "        'learning_rate': trial.suggest_float('learning_rate', 0.01, 0.3),\n",
    "        'max_depth': trial.suggest_int('max_depth', 3, 12),\n",
    "        'min_samples_leaf': trial.suggest_int('min_samples_leaf', 1, 10),\n",
    "        'max_leaf_nodes': trial.suggest_int('max_leaf_nodes', 10, 1000),\n",
    "        'l2_regularization': trial.suggest_float('l2_regularization', 1e-10, 10),\n",
    "        'max_bins': trial.suggest_int('max_bins', 2, 255),\n",
    "    }\n",
    "\n",
    "    # Модель HistGradientBoostingClassifier\n",
    "    model = HistGradientBoostingClassifier(**params, random_state=42)\n",
    "\n",
    "    # Обучение\n",
    "    model.fit(X_train, y_train)\n",
    "\n",
    "    # Предсказание\n",
    "    y_pred = model.predict(X_test)\n",
    "\n",
    "    accuracy = accuracy_score(y_test, y_pred)\n",
    "\n",
    "    return accuracy\n",
    "\n",
    "study = optuna.create_study(direction=\"maximize\")\n",
    "study.optimize(objective, n_trials=20)\n",
    "\n",
    "# Лучшие гиперпараметры\n",
    "best_params = study.best_params\n",
    "best_max_iter = best_params[\"max_iter\"]\n",
    "best_learning_rate = best_params[\"learning_rate\"]\n",
    "best_max_depth = best_params[\"max_depth\"]\n",
    "best_min_samples_leaf = best_params[\"min_samples_leaf\"]\n",
    "best_max_leaf_nodes = best_params[\"max_leaf_nodes\"]\n",
    "best_l2_regularization = best_params[\"l2_regularization\"]\n",
    "best_max_bins = best_params[\"max_bins\"]\n",
    "\n",
    "# Модель с лучшими гиперпараметрами\n",
    "best_model = HistGradientBoostingClassifier(\n",
    "    max_iter=best_max_iter,\n",
    "    learning_rate=best_learning_rate,\n",
    "    max_depth=best_max_depth,\n",
    "    min_samples_leaf=best_min_samples_leaf,\n",
    "    max_leaf_nodes=best_max_leaf_nodes,\n",
    "    l2_regularization=best_l2_regularization,\n",
    "    max_bins=best_max_bins,\n",
    "    random_state=42\n",
    ")\n",
    "\n",
    "best_model.fit(X_resampled, y_resampled)\n",
    "\n",
    "# Предсказание на тестовых данных\n",
    "y_pred = best_model.predict(X_test)"
   ],
   "metadata": {
    "collapsed": false
   }
  },
  {
   "cell_type": "code",
   "execution_count": null,
   "outputs": [],
   "source": [
    "# Оценим качество\n",
    "accuracy = accuracy_score(y_test, y_pred)\n",
    "print(f\"Accuracy: {accuracy:.2f}\")\n",
    "\n",
    "# Вычисление F1-меры\n",
    "f1 = f1_score(y_test, y_pred)\n",
    "print(f\"F1 Score: {f1:.2f}\")\n",
    "\n",
    "# Вычисление ROC-AUC\n",
    "roc_auc = roc_auc_score(y_test, y_pred)\n",
    "print(f\"ROC-AUC Score: {roc_auc:.2f}\")"
   ],
   "metadata": {
    "collapsed": false
   }
  },
  {
   "cell_type": "code",
   "execution_count": null,
   "outputs": [],
   "source": [
    "import pandas as pd\n",
    "\n",
    "# Создайте DataFrame с реальными значениями\n",
    "true_values_df = pd.DataFrame({\n",
    "    'customer_id': X_test['customer_id'],\n",
    "    'buy_post': y_test,\n",
    "})\n",
    "\n",
    "\n",
    "grouped_true_values = true_values_df.groupby('customer_id')['buy_post'].value_counts().unstack(fill_value=0).reset_index()\n",
    "\n",
    "\n",
    "grouped_true_values['prob_score'] = grouped_true_values[1] / (grouped_true_values[0] + grouped_true_values[1])\n",
    "\n",
    "\n",
    "grouped_true_values['buy_post'] = grouped_true_values[1].apply(lambda x: 1 if x > 0 else 0)\n",
    "\n",
    "\n",
    "real_y = grouped_true_values[['customer_id', 'buy_post', 'prob_score']]\n",
    "\n",
    "# Выведите результаты\n",
    "print(real_y)"
   ],
   "metadata": {
    "collapsed": false
   }
  },
  {
   "cell_type": "code",
   "execution_count": null,
   "outputs": [],
   "source": [
    "import pandas as pd\n",
    "\n",
    "# DataFrame с прогнозами и вероятностями\n",
    "predictions_df = pd.DataFrame({\n",
    "    'customer_id': X_test['customer_id'],  # Предполагая, что у вас есть столбец 'customer_id'\n",
    "    'buy_post': y_pred,\n",
    "})\n",
    "\n",
    "# Сгруппи по 'customer_id' и подс количество 0 и 1 для каждого пользователя\n",
    "grouped_predictions = predictions_df.groupby('customer_id')['buy_post'].value_counts().unstack(fill_value=0).reset_index()\n",
    "\n",
    "# вероятность как отношение количества 1 к общему количеству\n",
    "grouped_predictions['prob_score'] = grouped_predictions[1] / (grouped_predictions[0] + grouped_predictions[1])\n",
    "\n",
    "# 'buy_post' принимает только два значения\n",
    "grouped_predictions['buy_post'] = grouped_predictions[1].apply(lambda x: 1 if x > 0 else 0)\n",
    "\n",
    "# только нужные столбцы\n",
    "result_df = grouped_predictions[['customer_id', 'buy_post', 'prob_score']]\n",
    "\n",
    "# Выведите результаты\n",
    "print(result_df)"
   ],
   "metadata": {
    "collapsed": false
   }
  },
  {
   "cell_type": "code",
   "execution_count": null,
   "outputs": [],
   "source": [
    "# Оценим качество\n",
    "accuracy = accuracy_score(real_y['buy_post'], result_df['buy_post'])\n",
    "print(f\"Accuracy: {accuracy:.2f}\")\n",
    "\n",
    "# Вычисление F1-меры\n",
    "f1 = f1_score(real_y['buy_post'], result_df['buy_post'])\n",
    "print(f\"F1 Score: {f1:.2f}\")\n",
    "\n",
    "# Вычисление ROC-AUC\n",
    "roc_auc = roc_auc_score(real_y['buy_post'], result_df['buy_post'])\n",
    "print(f\"ROC-AUC Score: {roc_auc:.2f}\")"
   ],
   "metadata": {
    "collapsed": false
   }
  },
  {
   "cell_type": "code",
   "execution_count": null,
   "outputs": [],
   "source": [
    "from sklearn.metrics import precision_score, recall_score, f1_score, log_loss, auc, roc_curve, roc_auc_score\n",
    "\n",
    "fpr4, tpr4, tresholds4 = roc_curve(real_y['buy_post'], result_df['buy_post'])\n",
    "\n",
    "\n",
    "roc_auc4 = auc(fpr4, tpr4)\n",
    "\n",
    "#plt.plot(fpr, tpr, color='lime', label='ROC curve BS(area = %0.2f)' % roc_auc)\n",
    "# plt.plot(fpr_2, tpr_2, color='red', label='ROC curve GR (area = %0.2f)' % roc_auc_2)\n",
    "#plt.plot(fpr3, tpr3, color='orange', label='ROC curve CB (area = %0.2f)' % roc_auc3)\n",
    "plt.plot(fpr4, tpr4, color='blue', label='ROC curve CB_GR (area = %0.2f)' % roc_auc4)\n",
    "plt.plot([0, 1], [0, 1], color = 'navy', lw=2, linestyle='--')\n",
    "plt.xlim([0.0, 1.0])\n",
    "plt.ylim([0.0, 1.05])\n",
    "\n",
    "plt.xlabel('FPR')\n",
    "plt.ylabel('TPR')\n",
    "plt.title('ROC AUC')\n",
    "plt.legend(loc='lower right')\n",
    "plt.show()"
   ],
   "metadata": {
    "collapsed": false
   }
  },
  {
   "cell_type": "code",
   "execution_count": null,
   "outputs": [],
   "source": [
    "import matplotlib.pyplot as plt\n",
    "\n",
    "from sklearn.metrics import RocCurveDisplay\n",
    "\n",
    "RocCurveDisplay.from_predictions(\n",
    "    real_y['buy_post'], result_df['prob_score'],\n",
    "    color=\"darkorange\",\n",
    ")\n",
    "plt.axis(\"square\")\n",
    "plt.xlabel(\"False Positive Rate\")\n",
    "plt.ylabel(\"True Positive Rate\")\n",
    "plt.title(\"One-vs-Rest ROC curves:\\nVirginica vs (Setosa & Versicolor)\")\n",
    "plt.legend()\n",
    "plt.show()"
   ],
   "metadata": {
    "collapsed": false
   }
  },
  {
   "cell_type": "code",
   "execution_count": null,
   "outputs": [],
   "source": [
    "import joblib\n",
    "\n",
    "# Сохранение модели\n",
    "joblib.dump(best_model, 'best_model_hist_churn.joblib')\n",
    "\n",
    "# Сохранение параметров\n",
    "with open('best_model_params_ch.txt', 'w') as f:\n",
    "    f.write(str(best_params))\n"
   ],
   "metadata": {
    "collapsed": false
   }
  },
  {
   "cell_type": "markdown",
   "source": [
    "# catboost для diff_time"
   ],
   "metadata": {
    "collapsed": false
   }
  },
  {
   "cell_type": "code",
   "execution_count": 2,
   "outputs": [],
   "source": [
    "#Заново загружаем данные и балансим\n",
    "from imblearn.over_sampling import SMOTE\n",
    "from sklearn.model_selection import train_test_split\n",
    "\n",
    "X = df.drop(['buy_post', 'startdatetime', 'date_diff_post'], axis=1)\n",
    "y = df['date_diff_post']\n",
    "\n",
    "# X_train, X_test, y_train, y_test = train_test_split(X, y, test_size=0.2, random_state=42)\n",
    "\n",
    "# smote = SMOTE(random_state=42)\n",
    "# X_resampled, y_resampled = smote.fit_resample(X_train, y_train)\n",
    "# X_resampled"
   ],
   "metadata": {
    "collapsed": false,
    "ExecuteTime": {
     "start_time": "2023-12-10T00:17:27.750452Z",
     "end_time": "2023-12-10T00:17:27.796013Z"
    }
   }
  },
  {
   "cell_type": "code",
   "execution_count": null,
   "outputs": [],
   "source": [
    "X"
   ],
   "metadata": {
    "collapsed": false
   }
  },
  {
   "cell_type": "code",
   "execution_count": null,
   "outputs": [],
   "source": [
    "# import optuna\n",
    "# import lightgbm as lgb\n",
    "# from sklearn.model_selection import train_test_split\n",
    "# from sklearn.metrics import accuracy_score\n",
    "\n",
    "# # Разделение данных на обучающий и тестовый наборы\n",
    "# X_train, X_test, y_train, y_test = train_test_split(X, y, test_size=0.2, random_state=42)\n",
    "\n",
    "# def objective(trial):\n",
    "#     params = {\n",
    "#     'objective': 'multiclass',\n",
    "#     'num_classes': 60,  # Замените num_classes на количество уникальных классов в вашем целевом столбце\n",
    "#     'metric': 'multi_error',\n",
    "#     'boosting_type': 'gbdt',\n",
    "#     'num_leaves': trial.suggest_int('num_leaves', 20, 200),\n",
    "#     'learning_rate': trial.suggest_float('learning_rate', 0.01, 0.3),\n",
    "#     'feature_fraction': trial.suggest_float('feature_fraction', 0.1, 1.0),\n",
    "#     'bagging_fraction': trial.suggest_float('bagging_fraction', 0.1, 1.0),\n",
    "#     'lambda_l1': trial.suggest_float('lambda_l1', 1e-9, 10.0, log=True),\n",
    "#     'lambda_l2': trial.suggest_float('lambda_l2', 1e-9, 10.0, log=True),\n",
    "#     }\n",
    "\n",
    "\n",
    "#     model = lgb.LGBMClassifier(**params, random_state=42)\n",
    "\n",
    "#     # Обучение\n",
    "#     model.fit(X_train, y_train, eval_set=[(X_test, y_test)], early_stopping_rounds=20, verbose=False)\n",
    "\n",
    "#     # Предсказание\n",
    "#     y_pred = model.predict(X_test)\n",
    "\n",
    "#     accuracy = accuracy_score(y_test, y_pred)\n",
    "\n",
    "#     return accuracy\n",
    "\n",
    "# # Создание объекта study и запуск оптимизации\n",
    "# study = optuna.create_study(direction=\"maximize\")\n",
    "# study.optimize(objective, n_trials=10)\n",
    "\n",
    "# # Лучшие гиперпараметры\n",
    "# best_params = study.best_params\n",
    "# best_num_leaves = best_params[\"num_leaves\"]\n",
    "# best_learning_rate = best_params[\"learning_rate\"]\n",
    "# best_feature_fraction = best_params[\"feature_fraction\"]\n",
    "# best_bagging_fraction = best_params[\"bagging_fraction\"]\n",
    "# best_lambda_l1 = best_params[\"lambda_l1\"]\n",
    "# best_lambda_l2 = best_params[\"lambda_l2\"]\n",
    "\n",
    "# # Модель с лучшими гиперпараметрами\n",
    "# best_model = lgb.LGBMClassifier(\n",
    "#     objective='binary',\n",
    "#     metric='binary_error',\n",
    "#     boosting_type='gbdt',\n",
    "#     num_leaves=best_num_leaves,\n",
    "#     learning_rate=best_learning_rate,\n",
    "#     feature_fraction=best_feature_fraction,\n",
    "#     bagging_fraction=best_bagging_fraction,\n",
    "#     lambda_l1=best_lambda_l1,\n",
    "#     lambda_l2=best_lambda_l2,\n",
    "#     random_state=42\n",
    "# )\n",
    "\n",
    "# best_model.fit(X_resampled, y_resampled)\n",
    "\n",
    "# # Предсказание на тестовых данных\n",
    "# y_pred = best_model.predict(X_test)\n"
   ],
   "metadata": {
    "collapsed": false
   }
  },
  {
   "cell_type": "code",
   "execution_count": null,
   "outputs": [],
   "source": [
    "import optuna\n",
    "import lightgbm as lgb\n",
    "from sklearn.model_selection import train_test_split\n",
    "from sklearn.metrics import mean_squared_error\n",
    "\n",
    "# Разделение данных на обучающий и тестовый наборы\n",
    "X_train, X_test, y_train, y_test = train_test_split(X, y, test_size=0.2, random_state=42)\n",
    "\n",
    "def objective(trial):\n",
    "    params = {\n",
    "        'objective': 'regression',\n",
    "        'metric': 'rmse',  # Квадратный корень из среднеквадратичной ошибки\n",
    "        'boosting_type': 'gbdt',\n",
    "        'num_leaves': trial.suggest_int('num_leaves', 20, 200),\n",
    "        'learning_rate': trial.suggest_float('learning_rate', 0.01, 0.3),\n",
    "        'feature_fraction': trial.suggest_float('feature_fraction', 0.1, 1.0),\n",
    "        'bagging_fraction': trial.suggest_float('bagging_fraction', 0.1, 1.0),\n",
    "        'lambda_l1': trial.suggest_float('lambda_l1', 1e-9, 10.0, log=True),\n",
    "        'lambda_l2': trial.suggest_float('lambda_l2', 1e-9, 10.0, log=True),\n",
    "    }\n",
    "\n",
    "    model = lgb.LGBMRegressor(**params, random_state=42)\n",
    "\n",
    "    # Обучение\n",
    "    model.fit(X_train, y_train, eval_set=[(X_test, y_test)], early_stopping_rounds=20, verbose=False)\n",
    "\n",
    "    # Предсказание\n",
    "    y_pred = model.predict(X_test, num_iteration=model.best_iteration_)\n",
    "\n",
    "    rmse = mean_squared_error(y_test, y_pred, squared=False)\n",
    "\n",
    "    return -rmse  # Минимизация RMSE, поэтому используем знак минус\n",
    "\n",
    "# Создание объекта study и запуск оптимизации\n",
    "study = optuna.create_study(direction=\"minimize\")\n",
    "study.optimize(objective, n_trials=10)\n",
    "\n",
    "# Лучшие гиперпараметры\n",
    "best_params = study.best_params\n",
    "best_num_leaves = best_params[\"num_leaves\"]\n",
    "best_learning_rate = best_params[\"learning_rate\"]\n",
    "best_feature_fraction = best_params[\"feature_fraction\"]\n",
    "best_bagging_fraction = best_params[\"bagging_fraction\"]\n",
    "best_lambda_l1 = best_params[\"lambda_l1\"]\n",
    "best_lambda_l2 = best_params[\"lambda_l2\"]\n",
    "\n",
    "# Модель с лучшими гиперпараметрами\n",
    "best_model = lgb.LGBMRegressor(\n",
    "    objective='regression',\n",
    "    metric='rmse',\n",
    "    boosting_type='gbdt',\n",
    "    num_leaves=best_num_leaves,\n",
    "    learning_rate=best_learning_rate,\n",
    "    feature_fraction=best_feature_fraction,\n",
    "    bagging_fraction=best_bagging_fraction,\n",
    "    lambda_l1=best_lambda_l1,\n",
    "    lambda_l2=best_lambda_l2,\n",
    "    random_state=42\n",
    ")\n",
    "\n",
    "best_model.fit(X_train, y_train, eval_set=[(X_test, y_test)], early_stopping_rounds=20, verbose=False)\n",
    "\n",
    "# Предсказание на тестовых данных\n",
    "y_pred = best_model.predict(X_test, num_iteration=best_model.best_iteration_)\n"
   ],
   "metadata": {
    "collapsed": false
   }
  },
  {
   "cell_type": "code",
   "execution_count": null,
   "outputs": [],
   "source": [
    "# # Оценим качество\n",
    "# accuracy = accuracy_score(y_test, y_pred)\n",
    "# print(f\"Accuracy: {accuracy:.2f}\")\n",
    "\n",
    "# # Вычисление F1-меры\n",
    "# f1 = f1_score(y_test, y_pred)\n",
    "# print(f\"F1 Score: {f1:.2f}\")\n",
    "\n",
    "# # Вычисление ROC-AUC\n",
    "# roc_auc = roc_auc_score(y_test, y_pred)\n",
    "# print(f\"ROC-AUC Score: {roc_auc:.2f}\")"
   ],
   "metadata": {
    "collapsed": false
   }
  },
  {
   "cell_type": "code",
   "execution_count": null,
   "outputs": [],
   "source": [
    "from sklearn.metrics import mean_squared_error\n",
    "\n",
    "rmse = mean_squared_error(y_test, y_pred, squared=False)\n",
    "\n",
    "print(f\"RMSE: {rmse}\")"
   ],
   "metadata": {
    "collapsed": false
   }
  },
  {
   "cell_type": "code",
   "execution_count": null,
   "outputs": [],
   "source": [
    "from sklearn.metrics import mean_absolute_error\n",
    "\n",
    "mae = mean_absolute_error(y_test, y_pred)\n",
    "\n",
    "print(f\"MSE: {mae}\")"
   ],
   "metadata": {
    "collapsed": false
   }
  },
  {
   "cell_type": "code",
   "execution_count": null,
   "outputs": [],
   "source": [
    "from sklearn.metrics import mean_absolute_percentage_error\n",
    "\n",
    "mae = mean_absolute_percentage_error(y_test, y_pred)\n",
    "\n",
    "print(f\"MSE: {mae}\")"
   ],
   "metadata": {
    "collapsed": false
   }
  },
  {
   "cell_type": "code",
   "execution_count": null,
   "outputs": [],
   "source": [
    "import pandas as pd\n",
    "\n",
    "\n",
    "predictions_df = pd.DataFrame({'customer_id': X_test['customer_id'], 'predicted_date_diff_post': y_pred})\n",
    "\n",
    "average_predictions = predictions_df.groupby('customer_id')['predicted_date_diff_post'].mean().reset_index()\n",
    "\n",
    "# Вывод результатов\n",
    "print(average_predictions)"
   ],
   "metadata": {
    "collapsed": false
   }
  },
  {
   "cell_type": "code",
   "execution_count": null,
   "outputs": [],
   "source": [
    "import pandas as pd\n",
    "\n",
    "# Создание DataFrame с предсказанными значениями\n",
    "predictions_df = pd.DataFrame({'customer_id': X_test['customer_id'], 'predicted_date_diff_post': y_pred})\n",
    "\n",
    "# Группировка предсказаний по 'customer_id' и вычисление среднего значения\n",
    "average_predictions = predictions_df.groupby('customer_id')['predicted_date_diff_post'].mean().reset_index()\n",
    "\n",
    "# Создайте DataFrame с реальными значениями\n",
    "true_values_df = pd.DataFrame({\n",
    "    'customer_id': X_test['customer_id'],\n",
    "    'date_diff': y_test,\n",
    "})\n",
    "\n",
    "# Группировка реальных значений по 'customer_id' и вычисление среднего значения\n",
    "average_true_values = true_values_df.groupby('customer_id')['date_diff'].mean().reset_index()\n",
    "\n",
    "# Соединение двух DataFrame для сравнения\n",
    "comparison_df = pd.merge(average_true_values, average_predictions, on='customer_id', suffixes=('_true', '_pred'))\n",
    "\n",
    "# Вывод результатов\n",
    "print(comparison_df)\n"
   ],
   "metadata": {
    "collapsed": false
   }
  },
  {
   "cell_type": "code",
   "execution_count": null,
   "outputs": [],
   "source": [
    "from sklearn.metrics import mean_squared_error\n",
    "\n",
    "# Вычисление RMSE\n",
    "rmse = mean_squared_error(comparison_df['date_diff'], comparison_df['predicted_date_diff_post'], squared=False)\n",
    "\n",
    "print(f'Root Mean Squared Error (RMSE): {rmse}')\n"
   ],
   "metadata": {
    "collapsed": false
   }
  },
  {
   "cell_type": "code",
   "execution_count": null,
   "outputs": [],
   "source": [
    "import pandas as pd\n",
    "\n",
    "true_values_df = pd.DataFrame({\n",
    "    'customer_id': X_test['customer_id'],\n",
    "    'date_diff_post': y_test,\n",
    "})\n",
    "\n",
    "average_true_values = true_values_df.groupby('customer_id')['date_diff_post'].mean().reset_index()\n",
    "\n",
    "# # Соединение двух DataFrame для сравнения\n",
    "# comparison_df = pd.merge(average_true_values, average_predictions, on='customer_id', suffixes=('_true', '_pred'))\n",
    "\n",
    "# # Вывод результатов\n",
    "# print(comparison_df)\n"
   ],
   "metadata": {
    "collapsed": false
   }
  },
  {
   "cell_type": "code",
   "execution_count": null,
   "outputs": [],
   "source": [
    "# true_values_df['date_diff_post']\n",
    "average_predictions['predicted_date_diff_post']"
   ],
   "metadata": {
    "collapsed": false
   }
  },
  {
   "cell_type": "code",
   "execution_count": null,
   "outputs": [],
   "source": [
    "from sklearn.metrics import mean_squared_error\n",
    "\n",
    "rmse = mean_squared_error(y_test, y_pred, squared=False)\n",
    "\n",
    "print(f\"RMSE: {rmse}\")"
   ],
   "metadata": {
    "collapsed": false
   }
  },
  {
   "cell_type": "code",
   "execution_count": null,
   "outputs": [],
   "source": [
    "import joblib\n",
    "\n",
    "# Сохранение модели\n",
    "joblib.dump(best_model, 'best_model_light.pkl')\n",
    "\n",
    "# # Загрузка модели\n",
    "# loaded_model = joblib.load('best_model.pkl')\n",
    "\n",
    "# # Предсказание на новых данных\n",
    "# new_data = pd.DataFrame(...)\n",
    "# predictions = loaded_model.predict(new_data)\n"
   ],
   "metadata": {
    "collapsed": false
   }
  },
  {
   "cell_type": "markdown",
   "source": [
    "# ПРЕДСКАЗАНИЕ НА ТЕСТЕ"
   ],
   "metadata": {
    "collapsed": false
   }
  },
  {
   "cell_type": "code",
   "execution_count": null,
   "outputs": [],
   "source": [],
   "metadata": {
    "collapsed": false
   }
  },
  {
   "cell_type": "code",
   "execution_count": null,
   "outputs": [],
   "source": [
    "import pandas as pd\n",
    "import joblib\n",
    "\n",
    "# Загрузка тестовых данных\n",
    "df  = pd.read_parquet('test_dataset_hackaton2023_test.parquet')\n",
    "\n",
    "# Загрузка модели HistGradientBoostingClassifier\n",
    "best_model = joblib.load('best_model_hist_churn.joblib')\n",
    "\n",
    "df\n",
    "\n",
    "# # Предсказание на тестовых данных\n",
    "# predictions = best_model.predict(test_data)\n",
    "\n",
    "# # Сохранение результатов в CSV файл\n",
    "# results_df = pd.DataFrame({'customer_id': test_data['customer_id'], 'predictions': predictions})\n",
    "# results_df.to_csv('predictions.csv', index=False)\n"
   ],
   "metadata": {
    "collapsed": false
   }
  },
  {
   "cell_type": "code",
   "execution_count": null,
   "outputs": [],
   "source": [
    "df = df.drop('startdatetime', axis=1)"
   ],
   "metadata": {
    "collapsed": false
   }
  },
  {
   "cell_type": "code",
   "execution_count": null,
   "outputs": [],
   "source": [
    "import joblib\n",
    "\n",
    "best_model_hist = joblib.load('best_model_hist_churn.joblib')\n",
    "\n",
    "predictions_buy_post = best_model_hist.predict(df)\n"
   ],
   "metadata": {
    "collapsed": false
   }
  },
  {
   "cell_type": "code",
   "execution_count": null,
   "outputs": [],
   "source": [
    "predictions_buy_post"
   ],
   "metadata": {
    "collapsed": false
   }
  },
  {
   "cell_type": "code",
   "execution_count": null,
   "outputs": [],
   "source": [
    "import joblib\n",
    "\n",
    "# Загрузка модели LightGBM\n",
    "best_model_light = joblib.load('best_model_light.pkl')\n",
    "\n",
    "# Предсказание 'date_diff_post' с использованием модели LightGBM\n",
    "predictions_date_diff_post = best_model_light.predict(df)"
   ],
   "metadata": {
    "collapsed": false
   }
  },
  {
   "cell_type": "code",
   "execution_count": null,
   "outputs": [],
   "source": [
    "predictions_date_diff_post"
   ],
   "metadata": {
    "collapsed": false
   }
  },
  {
   "cell_type": "code",
   "execution_count": null,
   "outputs": [],
   "source": [
    "# Создание DataFrame с предсказаниями\n",
    "predictions_df = pd.DataFrame({\n",
    "    'customer_id': df['customer_id'],\n",
    "    'predicted_buy_post': predictions_buy_post,\n",
    "    'predicted_date_diff_post': predictions_date_diff_post\n",
    "})\n",
    "\n",
    "\n"
   ],
   "metadata": {
    "collapsed": false
   }
  },
  {
   "cell_type": "code",
   "execution_count": null,
   "outputs": [],
   "source": [
    "import pandas as pd\n",
    "\n",
    "predictions_df = pd.DataFrame({\n",
    "    'customer_id': df['customer_id'],\n",
    "    'predicted_buy_post': predictions_buy_post,  # Предсказания для 'buy_post'\n",
    "    'predicted_date_diff_post': predictions_date_diff_post  # Предсказания для 'date_diff_post'\n",
    "})\n",
    "\n",
    "\n",
    "grouped_buy_post = predictions_df.groupby('customer_id')['predicted_buy_post'].value_counts().unstack(fill_value=0).reset_index()\n",
    "\n",
    "grouped_buy_post['buy_post'] = grouped_buy_post[[0, 1]].idxmax(axis=1)\n",
    "\n",
    "grouped_date_diff_post = predictions_df.groupby('customer_id')['predicted_date_diff_post'].mean().reset_index()\n",
    "\n",
    "result_df = pd.merge(grouped_buy_post[['customer_id', 'buy_post']], grouped_date_diff_post, on='customer_id')\n",
    "\n",
    "result_df\n"
   ],
   "metadata": {
    "collapsed": false
   }
  },
  {
   "cell_type": "code",
   "execution_count": null,
   "outputs": [],
   "source": [
    "result_df.to_csv('submit_k.csv', sep=';', index=False)\n"
   ],
   "metadata": {
    "collapsed": false
   }
  }
 ],
 "metadata": {
  "kernelspec": {
   "display_name": "Python 3",
   "language": "python",
   "name": "python3"
  },
  "language_info": {
   "codemirror_mode": {
    "name": "ipython",
    "version": 2
   },
   "file_extension": ".py",
   "mimetype": "text/x-python",
   "name": "python",
   "nbconvert_exporter": "python",
   "pygments_lexer": "ipython2",
   "version": "2.7.6"
  }
 },
 "nbformat": 4,
 "nbformat_minor": 0
}
