{
 "cells": [
  {
   "cell_type": "code",
   "execution_count": 20,
   "metadata": {
    "collapsed": true,
    "ExecuteTime": {
     "start_time": "2023-11-25T11:24:36.114605Z",
     "end_time": "2023-11-25T11:24:36.590906Z"
    }
   },
   "outputs": [
    {
     "name": "stdout",
     "output_type": "stream",
     "text": [
      "Index(['Unnamed: 0', 'customer_id', 'startdatetime', 'data_diff_post',\n",
      "       'buy_post', 'prob_score'],\n",
      "      dtype='object')\n"
     ]
    }
   ],
   "source": [
    "import pandas as pd\n",
    "\n",
    "submit_df = pd.read_csv('submit_1.csv', delimiter=',')\n",
    "\n",
    "\n",
    "submit_df.head()\n",
    "# Вывод названий столбцов\n",
    "column_names = submit_df.columns\n",
    "print(column_names)"
   ]
  },
  {
   "cell_type": "code",
   "execution_count": 21,
   "outputs": [
    {
     "name": "stdout",
     "output_type": "stream",
     "text": [
      "Index(['customer_id', 'date_diff_post', 'buy_post'], dtype='object')\n"
     ]
    }
   ],
   "source": [
    "# Удаление ненужных столбцов\n",
    "submit_df = submit_df.drop(['Unnamed: 0', 'startdatetime', 'prob_score'], axis=1)\n",
    "\n",
    "# Переименование столбца\n",
    "submit_df = submit_df.rename(columns={'data_diff_post': 'date_diff_post'})\n",
    "\n",
    "# Вывод названий столбцов после удаления и переименования\n",
    "column_names = submit_df.columns\n",
    "print(column_names)\n",
    "\n",
    "submit_df.drop_duplicates('customer_id', inplace=True)\n",
    "\n"
   ],
   "metadata": {
    "collapsed": false,
    "ExecuteTime": {
     "start_time": "2023-11-25T11:24:39.579009Z",
     "end_time": "2023-11-25T11:24:39.623636Z"
    }
   }
  },
  {
   "cell_type": "code",
   "execution_count": 22,
   "outputs": [
    {
     "data": {
      "text/plain": "        customer_id  date_diff_post  buy_post\n0          13220760       17.902353         1\n1          30315975       15.434191         1\n2          21679985       18.550130         1\n3          29754274       18.778276         1\n4           7797823       11.958079         1\n...             ...             ...       ...\n573173     14023374       15.443827         0\n575920     34923292       16.212638         1\n578116     32761835       15.971400         1\n580175     38322785       16.931498         1\n580778     22730497       16.379065         1\n\n[112334 rows x 3 columns]",
      "text/html": "<div>\n<style scoped>\n    .dataframe tbody tr th:only-of-type {\n        vertical-align: middle;\n    }\n\n    .dataframe tbody tr th {\n        vertical-align: top;\n    }\n\n    .dataframe thead th {\n        text-align: right;\n    }\n</style>\n<table border=\"1\" class=\"dataframe\">\n  <thead>\n    <tr style=\"text-align: right;\">\n      <th></th>\n      <th>customer_id</th>\n      <th>date_diff_post</th>\n      <th>buy_post</th>\n    </tr>\n  </thead>\n  <tbody>\n    <tr>\n      <th>0</th>\n      <td>13220760</td>\n      <td>17.902353</td>\n      <td>1</td>\n    </tr>\n    <tr>\n      <th>1</th>\n      <td>30315975</td>\n      <td>15.434191</td>\n      <td>1</td>\n    </tr>\n    <tr>\n      <th>2</th>\n      <td>21679985</td>\n      <td>18.550130</td>\n      <td>1</td>\n    </tr>\n    <tr>\n      <th>3</th>\n      <td>29754274</td>\n      <td>18.778276</td>\n      <td>1</td>\n    </tr>\n    <tr>\n      <th>4</th>\n      <td>7797823</td>\n      <td>11.958079</td>\n      <td>1</td>\n    </tr>\n    <tr>\n      <th>...</th>\n      <td>...</td>\n      <td>...</td>\n      <td>...</td>\n    </tr>\n    <tr>\n      <th>573173</th>\n      <td>14023374</td>\n      <td>15.443827</td>\n      <td>0</td>\n    </tr>\n    <tr>\n      <th>575920</th>\n      <td>34923292</td>\n      <td>16.212638</td>\n      <td>1</td>\n    </tr>\n    <tr>\n      <th>578116</th>\n      <td>32761835</td>\n      <td>15.971400</td>\n      <td>1</td>\n    </tr>\n    <tr>\n      <th>580175</th>\n      <td>38322785</td>\n      <td>16.931498</td>\n      <td>1</td>\n    </tr>\n    <tr>\n      <th>580778</th>\n      <td>22730497</td>\n      <td>16.379065</td>\n      <td>1</td>\n    </tr>\n  </tbody>\n</table>\n<p>112334 rows × 3 columns</p>\n</div>"
     },
     "execution_count": 22,
     "metadata": {},
     "output_type": "execute_result"
    }
   ],
   "source": [
    "submit_df"
   ],
   "metadata": {
    "collapsed": false,
    "ExecuteTime": {
     "start_time": "2023-11-25T11:24:43.158533Z",
     "end_time": "2023-11-25T11:24:43.177541Z"
    }
   }
  },
  {
   "cell_type": "code",
   "execution_count": 23,
   "outputs": [],
   "source": [
    "submit_df.to_csv('submit_final.csv', index=False, sep=';')\n"
   ],
   "metadata": {
    "collapsed": false,
    "ExecuteTime": {
     "start_time": "2023-11-25T11:24:52.792833Z",
     "end_time": "2023-11-25T11:24:52.927641Z"
    }
   }
  },
  {
   "cell_type": "code",
   "execution_count": 18,
   "outputs": [
    {
     "name": "stdout",
     "output_type": "stream",
     "text": [
      "Index(['customer_id', 'date_diff_post', 'buy_post'], dtype='object')\n"
     ]
    },
    {
     "data": {
      "text/plain": "        customer_id  date_diff_post  buy_post\n0          13220760               0         0\n1          30315975               0         0\n2          21679985               0         0\n3          29754274               0         0\n4           7797823               0         0\n...             ...             ...       ...\n112329     14023374               0         0\n112330     34923292               0         0\n112331     32761835               0         0\n112332     38322785               0         0\n112333     22730497               0         0\n\n[112334 rows x 3 columns]",
      "text/html": "<div>\n<style scoped>\n    .dataframe tbody tr th:only-of-type {\n        vertical-align: middle;\n    }\n\n    .dataframe tbody tr th {\n        vertical-align: top;\n    }\n\n    .dataframe thead th {\n        text-align: right;\n    }\n</style>\n<table border=\"1\" class=\"dataframe\">\n  <thead>\n    <tr style=\"text-align: right;\">\n      <th></th>\n      <th>customer_id</th>\n      <th>date_diff_post</th>\n      <th>buy_post</th>\n    </tr>\n  </thead>\n  <tbody>\n    <tr>\n      <th>0</th>\n      <td>13220760</td>\n      <td>0</td>\n      <td>0</td>\n    </tr>\n    <tr>\n      <th>1</th>\n      <td>30315975</td>\n      <td>0</td>\n      <td>0</td>\n    </tr>\n    <tr>\n      <th>2</th>\n      <td>21679985</td>\n      <td>0</td>\n      <td>0</td>\n    </tr>\n    <tr>\n      <th>3</th>\n      <td>29754274</td>\n      <td>0</td>\n      <td>0</td>\n    </tr>\n    <tr>\n      <th>4</th>\n      <td>7797823</td>\n      <td>0</td>\n      <td>0</td>\n    </tr>\n    <tr>\n      <th>...</th>\n      <td>...</td>\n      <td>...</td>\n      <td>...</td>\n    </tr>\n    <tr>\n      <th>112329</th>\n      <td>14023374</td>\n      <td>0</td>\n      <td>0</td>\n    </tr>\n    <tr>\n      <th>112330</th>\n      <td>34923292</td>\n      <td>0</td>\n      <td>0</td>\n    </tr>\n    <tr>\n      <th>112331</th>\n      <td>32761835</td>\n      <td>0</td>\n      <td>0</td>\n    </tr>\n    <tr>\n      <th>112332</th>\n      <td>38322785</td>\n      <td>0</td>\n      <td>0</td>\n    </tr>\n    <tr>\n      <th>112333</th>\n      <td>22730497</td>\n      <td>0</td>\n      <td>0</td>\n    </tr>\n  </tbody>\n</table>\n<p>112334 rows × 3 columns</p>\n</div>"
     },
     "execution_count": 18,
     "metadata": {},
     "output_type": "execute_result"
    }
   ],
   "source": [
    "import pandas as pd\n",
    "\n",
    "submit_df = pd.read_csv('submission.csv', delimiter=';')\n",
    "\n",
    "\n",
    "submit_df.head()\n",
    "# Вывод названий столбцов\n",
    "column_names = submit_df.columns\n",
    "print(column_names)\n",
    "submit_df"
   ],
   "metadata": {
    "collapsed": false,
    "ExecuteTime": {
     "start_time": "2023-11-25T11:15:53.925361Z",
     "end_time": "2023-11-25T11:15:53.966910Z"
    }
   }
  }
 ],
 "metadata": {
  "kernelspec": {
   "display_name": "Python 3",
   "language": "python",
   "name": "python3"
  },
  "language_info": {
   "codemirror_mode": {
    "name": "ipython",
    "version": 2
   },
   "file_extension": ".py",
   "mimetype": "text/x-python",
   "name": "python",
   "nbconvert_exporter": "python",
   "pygments_lexer": "ipython2",
   "version": "2.7.6"
  }
 },
 "nbformat": 4,
 "nbformat_minor": 0
}
